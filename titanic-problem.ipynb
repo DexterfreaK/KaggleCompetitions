{
 "cells": [
  {
   "cell_type": "code",
   "execution_count": 1,
   "id": "30fb855f",
   "metadata": {
    "_cell_guid": "b1076dfc-b9ad-4769-8c92-a6c4dae69d19",
    "_uuid": "8f2839f25d086af736a60e9eeb907d3b93b6e0e5",
    "execution": {
     "iopub.execute_input": "2023-02-10T18:45:50.374614Z",
     "iopub.status.busy": "2023-02-10T18:45:50.374175Z",
     "iopub.status.idle": "2023-02-10T18:45:50.388908Z",
     "shell.execute_reply": "2023-02-10T18:45:50.388121Z"
    },
    "papermill": {
     "duration": 0.024851,
     "end_time": "2023-02-10T18:45:50.391390",
     "exception": false,
     "start_time": "2023-02-10T18:45:50.366539",
     "status": "completed"
    },
    "tags": []
   },
   "outputs": [
    {
     "name": "stdout",
     "output_type": "stream",
     "text": [
      "/kaggle/input/titanic/train.csv\n",
      "/kaggle/input/titanic/test.csv\n",
      "/kaggle/input/titanic/gender_submission.csv\n"
     ]
    }
   ],
   "source": [
    "# This Python 3 environment comes with many helpful analytics libraries installed\n",
    "# It is defined by the kaggle/python Docker image: https://github.com/kaggle/docker-python\n",
    "# For example, here's several helpful packages to load\n",
    "\n",
    "import numpy as np # linear algebra\n",
    "import pandas as pd # data processing, CSV file I/O (e.g. pd.read_csv)\n",
    "\n",
    "# Input data files are available in the read-only \"../input/\" directory\n",
    "# For example, running this (by clicking run or pressing Shift+Enter) will list all files under the input directory\n",
    "\n",
    "import os\n",
    "for dirname, _, filenames in os.walk('/kaggle/input'):\n",
    "    for filename in filenames:\n",
    "        print(os.path.join(dirname, filename))\n",
    "\n",
    "# You can write up to 20GB to the current directory (/kaggle/working/) that gets preserved as output when you create a version using \"Save & Run All\" \n",
    "# You can also write temporary files to /kaggle/temp/, but they won't be saved outside of the current session"
   ]
  },
  {
   "cell_type": "code",
   "execution_count": 2,
   "id": "0382a7d0",
   "metadata": {
    "execution": {
     "iopub.execute_input": "2023-02-10T18:45:50.402217Z",
     "iopub.status.busy": "2023-02-10T18:45:50.401766Z",
     "iopub.status.idle": "2023-02-10T18:45:50.449947Z",
     "shell.execute_reply": "2023-02-10T18:45:50.448615Z"
    },
    "papermill": {
     "duration": 0.056381,
     "end_time": "2023-02-10T18:45:50.452382",
     "exception": false,
     "start_time": "2023-02-10T18:45:50.396001",
     "status": "completed"
    },
    "tags": []
   },
   "outputs": [
    {
     "data": {
      "text/html": [
       "<div>\n",
       "<style scoped>\n",
       "    .dataframe tbody tr th:only-of-type {\n",
       "        vertical-align: middle;\n",
       "    }\n",
       "\n",
       "    .dataframe tbody tr th {\n",
       "        vertical-align: top;\n",
       "    }\n",
       "\n",
       "    .dataframe thead th {\n",
       "        text-align: right;\n",
       "    }\n",
       "</style>\n",
       "<table border=\"1\" class=\"dataframe\">\n",
       "  <thead>\n",
       "    <tr style=\"text-align: right;\">\n",
       "      <th></th>\n",
       "      <th>PassengerId</th>\n",
       "      <th>Survived</th>\n",
       "      <th>Pclass</th>\n",
       "      <th>Name</th>\n",
       "      <th>Sex</th>\n",
       "      <th>Age</th>\n",
       "      <th>SibSp</th>\n",
       "      <th>Parch</th>\n",
       "      <th>Ticket</th>\n",
       "      <th>Fare</th>\n",
       "      <th>Cabin</th>\n",
       "      <th>Embarked</th>\n",
       "    </tr>\n",
       "  </thead>\n",
       "  <tbody>\n",
       "    <tr>\n",
       "      <th>0</th>\n",
       "      <td>1</td>\n",
       "      <td>0</td>\n",
       "      <td>3</td>\n",
       "      <td>Braund, Mr. Owen Harris</td>\n",
       "      <td>male</td>\n",
       "      <td>22.0</td>\n",
       "      <td>1</td>\n",
       "      <td>0</td>\n",
       "      <td>A/5 21171</td>\n",
       "      <td>7.2500</td>\n",
       "      <td>NaN</td>\n",
       "      <td>S</td>\n",
       "    </tr>\n",
       "    <tr>\n",
       "      <th>1</th>\n",
       "      <td>2</td>\n",
       "      <td>1</td>\n",
       "      <td>1</td>\n",
       "      <td>Cumings, Mrs. John Bradley (Florence Briggs Th...</td>\n",
       "      <td>female</td>\n",
       "      <td>38.0</td>\n",
       "      <td>1</td>\n",
       "      <td>0</td>\n",
       "      <td>PC 17599</td>\n",
       "      <td>71.2833</td>\n",
       "      <td>C85</td>\n",
       "      <td>C</td>\n",
       "    </tr>\n",
       "    <tr>\n",
       "      <th>2</th>\n",
       "      <td>3</td>\n",
       "      <td>1</td>\n",
       "      <td>3</td>\n",
       "      <td>Heikkinen, Miss. Laina</td>\n",
       "      <td>female</td>\n",
       "      <td>26.0</td>\n",
       "      <td>0</td>\n",
       "      <td>0</td>\n",
       "      <td>STON/O2. 3101282</td>\n",
       "      <td>7.9250</td>\n",
       "      <td>NaN</td>\n",
       "      <td>S</td>\n",
       "    </tr>\n",
       "    <tr>\n",
       "      <th>3</th>\n",
       "      <td>4</td>\n",
       "      <td>1</td>\n",
       "      <td>1</td>\n",
       "      <td>Futrelle, Mrs. Jacques Heath (Lily May Peel)</td>\n",
       "      <td>female</td>\n",
       "      <td>35.0</td>\n",
       "      <td>1</td>\n",
       "      <td>0</td>\n",
       "      <td>113803</td>\n",
       "      <td>53.1000</td>\n",
       "      <td>C123</td>\n",
       "      <td>S</td>\n",
       "    </tr>\n",
       "    <tr>\n",
       "      <th>4</th>\n",
       "      <td>5</td>\n",
       "      <td>0</td>\n",
       "      <td>3</td>\n",
       "      <td>Allen, Mr. William Henry</td>\n",
       "      <td>male</td>\n",
       "      <td>35.0</td>\n",
       "      <td>0</td>\n",
       "      <td>0</td>\n",
       "      <td>373450</td>\n",
       "      <td>8.0500</td>\n",
       "      <td>NaN</td>\n",
       "      <td>S</td>\n",
       "    </tr>\n",
       "  </tbody>\n",
       "</table>\n",
       "</div>"
      ],
      "text/plain": [
       "   PassengerId  Survived  Pclass  \\\n",
       "0            1         0       3   \n",
       "1            2         1       1   \n",
       "2            3         1       3   \n",
       "3            4         1       1   \n",
       "4            5         0       3   \n",
       "\n",
       "                                                Name     Sex   Age  SibSp  \\\n",
       "0                            Braund, Mr. Owen Harris    male  22.0      1   \n",
       "1  Cumings, Mrs. John Bradley (Florence Briggs Th...  female  38.0      1   \n",
       "2                             Heikkinen, Miss. Laina  female  26.0      0   \n",
       "3       Futrelle, Mrs. Jacques Heath (Lily May Peel)  female  35.0      1   \n",
       "4                           Allen, Mr. William Henry    male  35.0      0   \n",
       "\n",
       "   Parch            Ticket     Fare Cabin Embarked  \n",
       "0      0         A/5 21171   7.2500   NaN        S  \n",
       "1      0          PC 17599  71.2833   C85        C  \n",
       "2      0  STON/O2. 3101282   7.9250   NaN        S  \n",
       "3      0            113803  53.1000  C123        S  \n",
       "4      0            373450   8.0500   NaN        S  "
      ]
     },
     "execution_count": 2,
     "metadata": {},
     "output_type": "execute_result"
    }
   ],
   "source": [
    "train_data = pd.read_csv(\"/kaggle/input/titanic/train.csv\")\n",
    "train_data.head()"
   ]
  },
  {
   "cell_type": "code",
   "execution_count": 3,
   "id": "c4db3bfd",
   "metadata": {
    "execution": {
     "iopub.execute_input": "2023-02-10T18:45:50.463978Z",
     "iopub.status.busy": "2023-02-10T18:45:50.463179Z",
     "iopub.status.idle": "2023-02-10T18:45:50.489815Z",
     "shell.execute_reply": "2023-02-10T18:45:50.488580Z"
    },
    "papermill": {
     "duration": 0.034884,
     "end_time": "2023-02-10T18:45:50.492155",
     "exception": false,
     "start_time": "2023-02-10T18:45:50.457271",
     "status": "completed"
    },
    "tags": []
   },
   "outputs": [
    {
     "data": {
      "text/html": [
       "<div>\n",
       "<style scoped>\n",
       "    .dataframe tbody tr th:only-of-type {\n",
       "        vertical-align: middle;\n",
       "    }\n",
       "\n",
       "    .dataframe tbody tr th {\n",
       "        vertical-align: top;\n",
       "    }\n",
       "\n",
       "    .dataframe thead th {\n",
       "        text-align: right;\n",
       "    }\n",
       "</style>\n",
       "<table border=\"1\" class=\"dataframe\">\n",
       "  <thead>\n",
       "    <tr style=\"text-align: right;\">\n",
       "      <th></th>\n",
       "      <th>PassengerId</th>\n",
       "      <th>Pclass</th>\n",
       "      <th>Name</th>\n",
       "      <th>Sex</th>\n",
       "      <th>Age</th>\n",
       "      <th>SibSp</th>\n",
       "      <th>Parch</th>\n",
       "      <th>Ticket</th>\n",
       "      <th>Fare</th>\n",
       "      <th>Cabin</th>\n",
       "      <th>Embarked</th>\n",
       "    </tr>\n",
       "  </thead>\n",
       "  <tbody>\n",
       "    <tr>\n",
       "      <th>0</th>\n",
       "      <td>892</td>\n",
       "      <td>3</td>\n",
       "      <td>Kelly, Mr. James</td>\n",
       "      <td>male</td>\n",
       "      <td>34.5</td>\n",
       "      <td>0</td>\n",
       "      <td>0</td>\n",
       "      <td>330911</td>\n",
       "      <td>7.8292</td>\n",
       "      <td>NaN</td>\n",
       "      <td>Q</td>\n",
       "    </tr>\n",
       "    <tr>\n",
       "      <th>1</th>\n",
       "      <td>893</td>\n",
       "      <td>3</td>\n",
       "      <td>Wilkes, Mrs. James (Ellen Needs)</td>\n",
       "      <td>female</td>\n",
       "      <td>47.0</td>\n",
       "      <td>1</td>\n",
       "      <td>0</td>\n",
       "      <td>363272</td>\n",
       "      <td>7.0000</td>\n",
       "      <td>NaN</td>\n",
       "      <td>S</td>\n",
       "    </tr>\n",
       "    <tr>\n",
       "      <th>2</th>\n",
       "      <td>894</td>\n",
       "      <td>2</td>\n",
       "      <td>Myles, Mr. Thomas Francis</td>\n",
       "      <td>male</td>\n",
       "      <td>62.0</td>\n",
       "      <td>0</td>\n",
       "      <td>0</td>\n",
       "      <td>240276</td>\n",
       "      <td>9.6875</td>\n",
       "      <td>NaN</td>\n",
       "      <td>Q</td>\n",
       "    </tr>\n",
       "    <tr>\n",
       "      <th>3</th>\n",
       "      <td>895</td>\n",
       "      <td>3</td>\n",
       "      <td>Wirz, Mr. Albert</td>\n",
       "      <td>male</td>\n",
       "      <td>27.0</td>\n",
       "      <td>0</td>\n",
       "      <td>0</td>\n",
       "      <td>315154</td>\n",
       "      <td>8.6625</td>\n",
       "      <td>NaN</td>\n",
       "      <td>S</td>\n",
       "    </tr>\n",
       "    <tr>\n",
       "      <th>4</th>\n",
       "      <td>896</td>\n",
       "      <td>3</td>\n",
       "      <td>Hirvonen, Mrs. Alexander (Helga E Lindqvist)</td>\n",
       "      <td>female</td>\n",
       "      <td>22.0</td>\n",
       "      <td>1</td>\n",
       "      <td>1</td>\n",
       "      <td>3101298</td>\n",
       "      <td>12.2875</td>\n",
       "      <td>NaN</td>\n",
       "      <td>S</td>\n",
       "    </tr>\n",
       "  </tbody>\n",
       "</table>\n",
       "</div>"
      ],
      "text/plain": [
       "   PassengerId  Pclass                                          Name     Sex  \\\n",
       "0          892       3                              Kelly, Mr. James    male   \n",
       "1          893       3              Wilkes, Mrs. James (Ellen Needs)  female   \n",
       "2          894       2                     Myles, Mr. Thomas Francis    male   \n",
       "3          895       3                              Wirz, Mr. Albert    male   \n",
       "4          896       3  Hirvonen, Mrs. Alexander (Helga E Lindqvist)  female   \n",
       "\n",
       "    Age  SibSp  Parch   Ticket     Fare Cabin Embarked  \n",
       "0  34.5      0      0   330911   7.8292   NaN        Q  \n",
       "1  47.0      1      0   363272   7.0000   NaN        S  \n",
       "2  62.0      0      0   240276   9.6875   NaN        Q  \n",
       "3  27.0      0      0   315154   8.6625   NaN        S  \n",
       "4  22.0      1      1  3101298  12.2875   NaN        S  "
      ]
     },
     "execution_count": 3,
     "metadata": {},
     "output_type": "execute_result"
    }
   ],
   "source": [
    "test_data = pd.read_csv(\"/kaggle/input/titanic/test.csv\")\n",
    "test_data.head()"
   ]
  },
  {
   "cell_type": "code",
   "execution_count": 4,
   "id": "42b2f1b6",
   "metadata": {
    "execution": {
     "iopub.execute_input": "2023-02-10T18:45:50.503743Z",
     "iopub.status.busy": "2023-02-10T18:45:50.503360Z",
     "iopub.status.idle": "2023-02-10T18:45:50.528477Z",
     "shell.execute_reply": "2023-02-10T18:45:50.527365Z"
    },
    "papermill": {
     "duration": 0.034106,
     "end_time": "2023-02-10T18:45:50.531215",
     "exception": false,
     "start_time": "2023-02-10T18:45:50.497109",
     "status": "completed"
    },
    "tags": []
   },
   "outputs": [
    {
     "name": "stderr",
     "output_type": "stream",
     "text": [
      "/opt/conda/lib/python3.7/site-packages/ipykernel_launcher.py:1: UserWarning: Boolean Series key will be reindexed to match DataFrame index.\n",
      "  \"\"\"Entry point for launching an IPython kernel.\n",
      "/opt/conda/lib/python3.7/site-packages/ipykernel_launcher.py:2: UserWarning: Boolean Series key will be reindexed to match DataFrame index.\n",
      "  \n"
     ]
    }
   ],
   "source": [
    "Survived = train_data.loc[train_data.Sex == \"female\"][train_data.Survived == 1]\n",
    "Dead = train_data.loc[train_data.Sex == \"female\"][train_data.Survived == 0]"
   ]
  },
  {
   "cell_type": "code",
   "execution_count": 5,
   "id": "5515b0d3",
   "metadata": {
    "execution": {
     "iopub.execute_input": "2023-02-10T18:45:50.543541Z",
     "iopub.status.busy": "2023-02-10T18:45:50.543062Z",
     "iopub.status.idle": "2023-02-10T18:45:50.549410Z",
     "shell.execute_reply": "2023-02-10T18:45:50.548183Z"
    },
    "papermill": {
     "duration": 0.015512,
     "end_time": "2023-02-10T18:45:50.551798",
     "exception": false,
     "start_time": "2023-02-10T18:45:50.536286",
     "status": "completed"
    },
    "tags": []
   },
   "outputs": [
    {
     "name": "stdout",
     "output_type": "stream",
     "text": [
      "% of women who survived: 74.20382165605095\n"
     ]
    }
   ],
   "source": [
    "print(\"% of women who survived:\",len(Survived)/(len(Survived)+len(Dead))*100)"
   ]
  },
  {
   "cell_type": "code",
   "execution_count": 6,
   "id": "583a21e4",
   "metadata": {
    "execution": {
     "iopub.execute_input": "2023-02-10T18:45:50.563909Z",
     "iopub.status.busy": "2023-02-10T18:45:50.563059Z",
     "iopub.status.idle": "2023-02-10T18:45:50.567608Z",
     "shell.execute_reply": "2023-02-10T18:45:50.566642Z"
    },
    "papermill": {
     "duration": 0.012838,
     "end_time": "2023-02-10T18:45:50.569690",
     "exception": false,
     "start_time": "2023-02-10T18:45:50.556852",
     "status": "completed"
    },
    "tags": []
   },
   "outputs": [],
   "source": [
    "#random forest model"
   ]
  },
  {
   "cell_type": "code",
   "execution_count": 7,
   "id": "3e172904",
   "metadata": {
    "execution": {
     "iopub.execute_input": "2023-02-10T18:45:50.581990Z",
     "iopub.status.busy": "2023-02-10T18:45:50.581603Z",
     "iopub.status.idle": "2023-02-10T18:45:52.013688Z",
     "shell.execute_reply": "2023-02-10T18:45:52.012194Z"
    },
    "papermill": {
     "duration": 1.44206,
     "end_time": "2023-02-10T18:45:52.016900",
     "exception": false,
     "start_time": "2023-02-10T18:45:50.574840",
     "status": "completed"
    },
    "tags": []
   },
   "outputs": [],
   "source": [
    "from sklearn.ensemble import RandomForestClassifier"
   ]
  },
  {
   "cell_type": "code",
   "execution_count": 8,
   "id": "f9dc19f9",
   "metadata": {
    "execution": {
     "iopub.execute_input": "2023-02-10T18:45:52.029654Z",
     "iopub.status.busy": "2023-02-10T18:45:52.028974Z",
     "iopub.status.idle": "2023-02-10T18:45:52.051963Z",
     "shell.execute_reply": "2023-02-10T18:45:52.050550Z"
    },
    "papermill": {
     "duration": 0.032631,
     "end_time": "2023-02-10T18:45:52.054858",
     "exception": false,
     "start_time": "2023-02-10T18:45:52.022227",
     "status": "completed"
    },
    "tags": []
   },
   "outputs": [],
   "source": [
    "y = train_data[\"Survived\"]\n",
    "features = [\"Pclass\", \"Sex\", \"SibSp\", \"Parch\"]\n",
    "\n",
    "X = pd.get_dummies(train_data[features])\n",
    "X_test = pd.get_dummies(test_data[features])\n",
    "#Converted to numerical values"
   ]
  },
  {
   "cell_type": "code",
   "execution_count": 9,
   "id": "d879b980",
   "metadata": {
    "execution": {
     "iopub.execute_input": "2023-02-10T18:45:52.067068Z",
     "iopub.status.busy": "2023-02-10T18:45:52.066654Z",
     "iopub.status.idle": "2023-02-10T18:45:52.072590Z",
     "shell.execute_reply": "2023-02-10T18:45:52.071481Z"
    },
    "papermill": {
     "duration": 0.014979,
     "end_time": "2023-02-10T18:45:52.075049",
     "exception": false,
     "start_time": "2023-02-10T18:45:52.060070",
     "status": "completed"
    },
    "tags": []
   },
   "outputs": [],
   "source": [
    "model = RandomForestClassifier(n_estimators = 100, max_depth = 5, random_state = 1)"
   ]
  },
  {
   "cell_type": "code",
   "execution_count": 10,
   "id": "4590be41",
   "metadata": {
    "execution": {
     "iopub.execute_input": "2023-02-10T18:45:52.087213Z",
     "iopub.status.busy": "2023-02-10T18:45:52.086794Z",
     "iopub.status.idle": "2023-02-10T18:45:52.258548Z",
     "shell.execute_reply": "2023-02-10T18:45:52.257314Z"
    },
    "papermill": {
     "duration": 0.18114,
     "end_time": "2023-02-10T18:45:52.261418",
     "exception": false,
     "start_time": "2023-02-10T18:45:52.080278",
     "status": "completed"
    },
    "tags": []
   },
   "outputs": [
    {
     "data": {
      "text/plain": [
       "RandomForestClassifier(max_depth=5, random_state=1)"
      ]
     },
     "execution_count": 10,
     "metadata": {},
     "output_type": "execute_result"
    }
   ],
   "source": [
    "model.fit(X,y)"
   ]
  },
  {
   "cell_type": "code",
   "execution_count": 11,
   "id": "db399ba5",
   "metadata": {
    "execution": {
     "iopub.execute_input": "2023-02-10T18:45:52.274561Z",
     "iopub.status.busy": "2023-02-10T18:45:52.274148Z",
     "iopub.status.idle": "2023-02-10T18:45:52.301342Z",
     "shell.execute_reply": "2023-02-10T18:45:52.300187Z"
    },
    "papermill": {
     "duration": 0.036769,
     "end_time": "2023-02-10T18:45:52.304146",
     "exception": false,
     "start_time": "2023-02-10T18:45:52.267377",
     "status": "completed"
    },
    "tags": []
   },
   "outputs": [],
   "source": [
    "predictions = model.predict(X_test) "
   ]
  },
  {
   "cell_type": "code",
   "execution_count": 12,
   "id": "ed4e6fb2",
   "metadata": {
    "execution": {
     "iopub.execute_input": "2023-02-10T18:45:52.316823Z",
     "iopub.status.busy": "2023-02-10T18:45:52.316427Z",
     "iopub.status.idle": "2023-02-10T18:45:52.323606Z",
     "shell.execute_reply": "2023-02-10T18:45:52.322378Z"
    },
    "papermill": {
     "duration": 0.01684,
     "end_time": "2023-02-10T18:45:52.326451",
     "exception": false,
     "start_time": "2023-02-10T18:45:52.309611",
     "status": "completed"
    },
    "tags": []
   },
   "outputs": [
    {
     "name": "stdout",
     "output_type": "stream",
     "text": [
      "[0 1 0 0 1 0 1 0 1 0 0 0 1 0 1 1 0 0 1 1 0 0 1 0 1 0 1 0 0 0 0 0 0 0 0 0 1\n",
      " 1 0 0 0 0 0 1 1 0 0 0 1 1 0 0 1 1 0 0 0 0 0 1 0 0 0 1 1 1 1 0 0 1 1 0 1 0\n",
      " 1 0 0 1 0 1 0 0 0 0 0 0 1 1 1 0 1 0 1 0 0 0 1 0 1 0 1 0 0 0 1 0 0 0 0 0 0\n",
      " 1 1 1 1 0 0 1 0 1 1 0 1 0 0 1 0 1 0 0 0 0 0 0 0 0 0 0 1 0 0 1 1 0 0 0 0 0\n",
      " 0 0 1 0 0 1 0 0 1 1 0 1 1 0 1 0 0 1 0 0 1 1 0 0 0 0 0 1 1 0 1 1 0 0 1 0 1\n",
      " 0 1 0 0 0 0 0 0 0 1 0 0 1 0 1 1 0 0 1 0 0 1 0 1 0 0 0 0 1 0 0 1 0 1 0 1 0\n",
      " 1 0 1 1 0 1 0 0 0 1 0 0 0 0 0 0 1 1 1 1 0 0 0 0 1 0 1 1 1 0 0 0 0 0 0 0 1\n",
      " 0 0 0 1 1 0 0 0 0 1 0 0 0 1 1 0 1 0 0 0 0 1 0 1 1 1 0 0 0 0 0 0 1 0 0 0 0\n",
      " 1 0 0 0 0 0 0 0 1 1 1 0 0 1 0 0 0 1 1 1 0 0 0 0 0 0 0 0 1 0 1 0 0 0 1 0 0\n",
      " 1 0 0 0 0 0 0 0 0 0 1 0 1 0 1 0 1 1 0 0 0 0 0 1 0 0 1 0 1 1 0 1 0 0 1 1 0\n",
      " 0 1 0 0 1 1 1 0 0 0 0 0 1 1 0 1 0 0 0 0 0 1 0 0 0 1 0 1 0 0 1 0 1 0 0 0 0\n",
      " 0 1 1 1 1 1 0 1 0 0 0]\n"
     ]
    }
   ],
   "source": [
    "print(predictions)"
   ]
  },
  {
   "cell_type": "code",
   "execution_count": 13,
   "id": "2adeae6c",
   "metadata": {
    "execution": {
     "iopub.execute_input": "2023-02-10T18:45:52.339062Z",
     "iopub.status.busy": "2023-02-10T18:45:52.338682Z",
     "iopub.status.idle": "2023-02-10T18:45:52.345172Z",
     "shell.execute_reply": "2023-02-10T18:45:52.343854Z"
    },
    "papermill": {
     "duration": 0.015622,
     "end_time": "2023-02-10T18:45:52.347677",
     "exception": false,
     "start_time": "2023-02-10T18:45:52.332055",
     "status": "completed"
    },
    "tags": []
   },
   "outputs": [],
   "source": [
    "output = pd.DataFrame({'PassengerId': test_data.PassengerId, 'Survived': predictions})"
   ]
  },
  {
   "cell_type": "code",
   "execution_count": 14,
   "id": "50c10166",
   "metadata": {
    "execution": {
     "iopub.execute_input": "2023-02-10T18:45:52.360021Z",
     "iopub.status.busy": "2023-02-10T18:45:52.359644Z",
     "iopub.status.idle": "2023-02-10T18:45:52.368486Z",
     "shell.execute_reply": "2023-02-10T18:45:52.367036Z"
    },
    "papermill": {
     "duration": 0.017947,
     "end_time": "2023-02-10T18:45:52.370919",
     "exception": false,
     "start_time": "2023-02-10T18:45:52.352972",
     "status": "completed"
    },
    "tags": []
   },
   "outputs": [
    {
     "name": "stdout",
     "output_type": "stream",
     "text": [
      "     PassengerId  Survived\n",
      "0            892         0\n",
      "1            893         1\n",
      "2            894         0\n",
      "3            895         0\n",
      "4            896         1\n",
      "..           ...       ...\n",
      "413         1305         0\n",
      "414         1306         1\n",
      "415         1307         0\n",
      "416         1308         0\n",
      "417         1309         0\n",
      "\n",
      "[418 rows x 2 columns]\n"
     ]
    }
   ],
   "source": [
    "print(output)"
   ]
  },
  {
   "cell_type": "code",
   "execution_count": 15,
   "id": "1a05320f",
   "metadata": {
    "execution": {
     "iopub.execute_input": "2023-02-10T18:45:52.383614Z",
     "iopub.status.busy": "2023-02-10T18:45:52.383239Z",
     "iopub.status.idle": "2023-02-10T18:45:52.392159Z",
     "shell.execute_reply": "2023-02-10T18:45:52.390974Z"
    },
    "papermill": {
     "duration": 0.018364,
     "end_time": "2023-02-10T18:45:52.394768",
     "exception": false,
     "start_time": "2023-02-10T18:45:52.376404",
     "status": "completed"
    },
    "tags": []
   },
   "outputs": [],
   "source": [
    "output.to_csv('submission.csv', index=False)"
   ]
  },
  {
   "cell_type": "code",
   "execution_count": null,
   "id": "f106de8a",
   "metadata": {
    "papermill": {
     "duration": 0.005078,
     "end_time": "2023-02-10T18:45:52.405292",
     "exception": false,
     "start_time": "2023-02-10T18:45:52.400214",
     "status": "completed"
    },
    "tags": []
   },
   "outputs": [],
   "source": []
  }
 ],
 "metadata": {
  "kernelspec": {
   "display_name": "Python 3",
   "language": "python",
   "name": "python3"
  },
  "language_info": {
   "codemirror_mode": {
    "name": "ipython",
    "version": 3
   },
   "file_extension": ".py",
   "mimetype": "text/x-python",
   "name": "python",
   "nbconvert_exporter": "python",
   "pygments_lexer": "ipython3",
   "version": "3.7.12"
  },
  "papermill": {
   "default_parameters": {},
   "duration": 11.470729,
   "end_time": "2023-02-10T18:45:53.132696",
   "environment_variables": {},
   "exception": null,
   "input_path": "__notebook__.ipynb",
   "output_path": "__notebook__.ipynb",
   "parameters": {},
   "start_time": "2023-02-10T18:45:41.661967",
   "version": "2.3.4"
  }
 },
 "nbformat": 4,
 "nbformat_minor": 5
}
